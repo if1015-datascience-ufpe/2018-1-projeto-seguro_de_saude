{
 "cells": [
  {
   "cell_type": "markdown",
   "metadata": {
    "collapsed": true
   },
   "source": [
    "                Seguro de Saúde \n",
    "                \n",
    "Os conjuntos de dados que vou usar neste projeto contêm dados sobre planos de saúde e odontológicos oferecidos a indivíduos e pequenas empresas por meio do US Health Insurance Marketplace. Esses dados foram originalmente preparados e divulgados pelo Centers for Medicare & Medicaid Services (CMS), que faz parte do Departamento de Saúde e Serviços Humanos dos EUA (HHS)."
   ]
  },
  {
   "cell_type": "markdown",
   "metadata": {},
   "source": [
    "Data Wrangling\n",
    "\n",
    "\n",
    "vou utilizar dois conjuntos de dados: 1- Taxa de conjunto de dados e 2- Conjunto de dados de atributos do plano"
   ]
  },
  {
   "cell_type": "code",
   "execution_count": 1,
   "metadata": {
    "collapsed": true
   },
   "outputs": [],
   "source": [
    "import pandas as pd\n",
    "import zipfile\n",
    "import matplotlib.pyplot as plt\n",
    "import numpy as np\n",
    "import seaborn as sns\n",
    "import statsmodels.formula.api as smf\n",
    "from pylab import rcParams\n",
    "rcParams['figure.figsize'] = 15, 10\n",
    "\n",
    "%matplotlib inline"
   ]
  },
  {
   "cell_type": "markdown",
   "metadata": {},
   "source": [
    "Lendo o DataSet"
   ]
  },
  {
   "cell_type": "code",
   "execution_count": 2,
   "metadata": {},
   "outputs": [
    {
     "data": {
      "text/html": [
       "<div>\n",
       "<style>\n",
       "    .dataframe thead tr:only-child th {\n",
       "        text-align: right;\n",
       "    }\n",
       "\n",
       "    .dataframe thead th {\n",
       "        text-align: left;\n",
       "    }\n",
       "\n",
       "    .dataframe tbody tr th {\n",
       "        vertical-align: top;\n",
       "    }\n",
       "</style>\n",
       "<table border=\"1\" class=\"dataframe\">\n",
       "  <thead>\n",
       "    <tr style=\"text-align: right;\">\n",
       "      <th></th>\n",
       "      <th>BusinessYear</th>\n",
       "      <th>StateCode</th>\n",
       "      <th>IssuerId</th>\n",
       "      <th>SourceName</th>\n",
       "      <th>VersionNum</th>\n",
       "      <th>ImportDate</th>\n",
       "      <th>IssuerId2</th>\n",
       "      <th>FederalTIN</th>\n",
       "      <th>RateEffectiveDate</th>\n",
       "      <th>RateExpirationDate</th>\n",
       "      <th>...</th>\n",
       "      <th>IndividualRate</th>\n",
       "      <th>IndividualTobaccoRate</th>\n",
       "      <th>Couple</th>\n",
       "      <th>PrimarySubscriberAndOneDependent</th>\n",
       "      <th>PrimarySubscriberAndTwoDependents</th>\n",
       "      <th>PrimarySubscriberAndThreeOrMoreDependents</th>\n",
       "      <th>CoupleAndOneDependent</th>\n",
       "      <th>CoupleAndTwoDependents</th>\n",
       "      <th>CoupleAndThreeOrMoreDependents</th>\n",
       "      <th>RowNumber</th>\n",
       "    </tr>\n",
       "  </thead>\n",
       "  <tbody>\n",
       "    <tr>\n",
       "      <th>0</th>\n",
       "      <td>2014</td>\n",
       "      <td>AK</td>\n",
       "      <td>21989</td>\n",
       "      <td>HIOS</td>\n",
       "      <td>6</td>\n",
       "      <td>2014-03-19 07:06:49</td>\n",
       "      <td>21989</td>\n",
       "      <td>93-0438772</td>\n",
       "      <td>2014-01-01</td>\n",
       "      <td>2014-12-31</td>\n",
       "      <td>...</td>\n",
       "      <td>29.00</td>\n",
       "      <td>NaN</td>\n",
       "      <td>NaN</td>\n",
       "      <td>NaN</td>\n",
       "      <td>NaN</td>\n",
       "      <td>NaN</td>\n",
       "      <td>NaN</td>\n",
       "      <td>NaN</td>\n",
       "      <td>NaN</td>\n",
       "      <td>14</td>\n",
       "    </tr>\n",
       "    <tr>\n",
       "      <th>1</th>\n",
       "      <td>2014</td>\n",
       "      <td>AK</td>\n",
       "      <td>21989</td>\n",
       "      <td>HIOS</td>\n",
       "      <td>6</td>\n",
       "      <td>2014-03-19 07:06:49</td>\n",
       "      <td>21989</td>\n",
       "      <td>93-0438772</td>\n",
       "      <td>2014-01-01</td>\n",
       "      <td>2014-12-31</td>\n",
       "      <td>...</td>\n",
       "      <td>36.95</td>\n",
       "      <td>NaN</td>\n",
       "      <td>73.9</td>\n",
       "      <td>107.61</td>\n",
       "      <td>107.61</td>\n",
       "      <td>107.61</td>\n",
       "      <td>144.56</td>\n",
       "      <td>144.56</td>\n",
       "      <td>144.56</td>\n",
       "      <td>14</td>\n",
       "    </tr>\n",
       "    <tr>\n",
       "      <th>2</th>\n",
       "      <td>2014</td>\n",
       "      <td>AK</td>\n",
       "      <td>21989</td>\n",
       "      <td>HIOS</td>\n",
       "      <td>6</td>\n",
       "      <td>2014-03-19 07:06:49</td>\n",
       "      <td>21989</td>\n",
       "      <td>93-0438772</td>\n",
       "      <td>2014-01-01</td>\n",
       "      <td>2014-12-31</td>\n",
       "      <td>...</td>\n",
       "      <td>36.95</td>\n",
       "      <td>NaN</td>\n",
       "      <td>73.9</td>\n",
       "      <td>107.61</td>\n",
       "      <td>107.61</td>\n",
       "      <td>107.61</td>\n",
       "      <td>144.56</td>\n",
       "      <td>144.56</td>\n",
       "      <td>144.56</td>\n",
       "      <td>15</td>\n",
       "    </tr>\n",
       "  </tbody>\n",
       "</table>\n",
       "<p>3 rows × 24 columns</p>\n",
       "</div>"
      ],
      "text/plain": [
       "   BusinessYear StateCode  IssuerId SourceName  VersionNum  \\\n",
       "0          2014        AK     21989       HIOS           6   \n",
       "1          2014        AK     21989       HIOS           6   \n",
       "2          2014        AK     21989       HIOS           6   \n",
       "\n",
       "            ImportDate  IssuerId2  FederalTIN RateEffectiveDate  \\\n",
       "0  2014-03-19 07:06:49      21989  93-0438772        2014-01-01   \n",
       "1  2014-03-19 07:06:49      21989  93-0438772        2014-01-01   \n",
       "2  2014-03-19 07:06:49      21989  93-0438772        2014-01-01   \n",
       "\n",
       "  RateExpirationDate    ...     IndividualRate IndividualTobaccoRate Couple  \\\n",
       "0         2014-12-31    ...              29.00                   NaN    NaN   \n",
       "1         2014-12-31    ...              36.95                   NaN   73.9   \n",
       "2         2014-12-31    ...              36.95                   NaN   73.9   \n",
       "\n",
       "  PrimarySubscriberAndOneDependent  PrimarySubscriberAndTwoDependents  \\\n",
       "0                              NaN                                NaN   \n",
       "1                           107.61                             107.61   \n",
       "2                           107.61                             107.61   \n",
       "\n",
       "   PrimarySubscriberAndThreeOrMoreDependents  CoupleAndOneDependent  \\\n",
       "0                                        NaN                    NaN   \n",
       "1                                     107.61                 144.56   \n",
       "2                                     107.61                 144.56   \n",
       "\n",
       "   CoupleAndTwoDependents  CoupleAndThreeOrMoreDependents  RowNumber  \n",
       "0                     NaN                             NaN         14  \n",
       "1                  144.56                          144.56         14  \n",
       "2                  144.56                          144.56         15  \n",
       "\n",
       "[3 rows x 24 columns]"
      ]
     },
     "execution_count": 2,
     "metadata": {},
     "output_type": "execute_result"
    }
   ],
   "source": [
    "Rate_Raw = pd.read_csv(\"Rate.csv\")\n",
    "Rate_Raw.head(3)"
   ]
  },
  {
   "cell_type": "markdown",
   "metadata": {},
   "source": [
    "escolhendo os recursos que vou utilizar"
   ]
  },
  {
   "cell_type": "code",
   "execution_count": 11,
   "metadata": {
    "scrolled": true
   },
   "outputs": [
    {
     "data": {
      "text/html": [
       "<div>\n",
       "<style>\n",
       "    .dataframe thead tr:only-child th {\n",
       "        text-align: right;\n",
       "    }\n",
       "\n",
       "    .dataframe thead th {\n",
       "        text-align: left;\n",
       "    }\n",
       "\n",
       "    .dataframe tbody tr th {\n",
       "        vertical-align: top;\n",
       "    }\n",
       "</style>\n",
       "<table border=\"1\" class=\"dataframe\">\n",
       "  <thead>\n",
       "    <tr style=\"text-align: right;\">\n",
       "      <th></th>\n",
       "      <th>BusinessYear</th>\n",
       "      <th>StateCode</th>\n",
       "      <th>IssuerId</th>\n",
       "      <th>ImportDate</th>\n",
       "      <th>PlanId</th>\n",
       "      <th>Age</th>\n",
       "      <th>IndividualRate</th>\n",
       "      <th>Couple</th>\n",
       "      <th>CoupleAndOneDependent</th>\n",
       "      <th>CoupleAndTwoDependents</th>\n",
       "      <th>CoupleAndThreeOrMoreDependents</th>\n",
       "    </tr>\n",
       "  </thead>\n",
       "  <tbody>\n",
       "    <tr>\n",
       "      <th>0</th>\n",
       "      <td>2014</td>\n",
       "      <td>AK</td>\n",
       "      <td>21989</td>\n",
       "      <td>2014-03-19 07:06:49</td>\n",
       "      <td>21989AK0010001</td>\n",
       "      <td>0-20</td>\n",
       "      <td>29.00</td>\n",
       "      <td>NaN</td>\n",
       "      <td>NaN</td>\n",
       "      <td>NaN</td>\n",
       "      <td>NaN</td>\n",
       "    </tr>\n",
       "    <tr>\n",
       "      <th>1</th>\n",
       "      <td>2014</td>\n",
       "      <td>AK</td>\n",
       "      <td>21989</td>\n",
       "      <td>2014-03-19 07:06:49</td>\n",
       "      <td>21989AK0020001</td>\n",
       "      <td>Family Option</td>\n",
       "      <td>36.95</td>\n",
       "      <td>73.9</td>\n",
       "      <td>144.56</td>\n",
       "      <td>144.56</td>\n",
       "      <td>144.56</td>\n",
       "    </tr>\n",
       "    <tr>\n",
       "      <th>2</th>\n",
       "      <td>2014</td>\n",
       "      <td>AK</td>\n",
       "      <td>21989</td>\n",
       "      <td>2014-03-19 07:06:49</td>\n",
       "      <td>21989AK0020001</td>\n",
       "      <td>Family Option</td>\n",
       "      <td>36.95</td>\n",
       "      <td>73.9</td>\n",
       "      <td>144.56</td>\n",
       "      <td>144.56</td>\n",
       "      <td>144.56</td>\n",
       "    </tr>\n",
       "  </tbody>\n",
       "</table>\n",
       "</div>"
      ],
      "text/plain": [
       "   BusinessYear StateCode  IssuerId           ImportDate          PlanId  \\\n",
       "0          2014        AK     21989  2014-03-19 07:06:49  21989AK0010001   \n",
       "1          2014        AK     21989  2014-03-19 07:06:49  21989AK0020001   \n",
       "2          2014        AK     21989  2014-03-19 07:06:49  21989AK0020001   \n",
       "\n",
       "             Age  IndividualRate  Couple  CoupleAndOneDependent  \\\n",
       "0           0-20           29.00     NaN                    NaN   \n",
       "1  Family Option           36.95    73.9                 144.56   \n",
       "2  Family Option           36.95    73.9                 144.56   \n",
       "\n",
       "   CoupleAndTwoDependents  CoupleAndThreeOrMoreDependents  \n",
       "0                     NaN                             NaN  \n",
       "1                  144.56                          144.56  \n",
       "2                  144.56                          144.56  "
      ]
     },
     "execution_count": 11,
     "metadata": {},
     "output_type": "execute_result"
    }
   ],
   "source": [
    "Rate_Data = Rate_Raw[['BusinessYear','StateCode','IssuerId','ImportDate','PlanId','Age','IndividualRate','Couple',\n",
    "                    'CoupleAndOneDependent','CoupleAndTwoDependents','CoupleAndThreeOrMoreDependents']]\n",
    "Rate_Data.head(3)"
   ]
  },
  {
   "cell_type": "markdown",
   "metadata": {},
   "source": [
    "exportando outro quadro de dados que esta em outro arquivo"
   ]
  },
  {
   "cell_type": "code",
   "execution_count": 16,
   "metadata": {},
   "outputs": [],
   "source": [
    "teste=Rate_Data.to_csv(\"Rate_Date.csv\")"
   ]
  },
  {
   "cell_type": "markdown",
   "metadata": {},
   "source": [
    "Agora leio o conjunto de dados de atributos do plano"
   ]
  },
  {
   "cell_type": "code",
   "execution_count": 5,
   "metadata": {},
   "outputs": [
    {
     "name": "stderr",
     "output_type": "stream",
     "text": [
      "/home/rielson/anaconda3/lib/python3.6/site-packages/IPython/core/interactiveshell.py:2698: DtypeWarning: Columns (0,7,8,9,10,11,12,13,14,15,18,19,20,22,23,24,25,26,27,28,29,31,32,33,34,39,40,41,42,66,67,68,70,71,72,75,76,77,79,80,81,82,84,85,86,88,89,90,92,93,94,96,97,98,136,137,138,140,141,142,145,146,147,150,151,152,154,155,156,158,159,160,162,163,164,166,167,168) have mixed types. Specify dtype option on import or set low_memory=False.\n",
      "  interactivity=interactivity, compiler=compiler, result=result)\n"
     ]
    },
    {
     "data": {
      "text/html": [
       "<div>\n",
       "<style>\n",
       "    .dataframe thead tr:only-child th {\n",
       "        text-align: right;\n",
       "    }\n",
       "\n",
       "    .dataframe thead th {\n",
       "        text-align: left;\n",
       "    }\n",
       "\n",
       "    .dataframe tbody tr th {\n",
       "        vertical-align: top;\n",
       "    }\n",
       "</style>\n",
       "<table border=\"1\" class=\"dataframe\">\n",
       "  <thead>\n",
       "    <tr style=\"text-align: right;\">\n",
       "      <th></th>\n",
       "      <th>AVCalculatorOutputNumber</th>\n",
       "      <th>BeginPrimaryCareCostSharingAfterNumberOfVisits</th>\n",
       "      <th>BeginPrimaryCareDeductibleCoinsuranceAfterNumberOfCopays</th>\n",
       "      <th>BenefitPackageId</th>\n",
       "      <th>BusinessYear</th>\n",
       "      <th>CSRVariationType</th>\n",
       "      <th>ChildOnlyOffering</th>\n",
       "      <th>ChildOnlyPlanId</th>\n",
       "      <th>CompositeRatingOffered</th>\n",
       "      <th>DEHBCombInnOonFamilyMOOP</th>\n",
       "      <th>...</th>\n",
       "      <th>TEHBOutOfNetFamilyMOOP</th>\n",
       "      <th>TEHBOutOfNetFamilyPerGroupMOOP</th>\n",
       "      <th>TEHBOutOfNetFamilyPerPersonMOOP</th>\n",
       "      <th>TEHBOutOfNetIndividualMOOP</th>\n",
       "      <th>TIN</th>\n",
       "      <th>URLForEnrollmentPayment</th>\n",
       "      <th>URLForSummaryofBenefitsCoverage</th>\n",
       "      <th>UniquePlanDesign</th>\n",
       "      <th>VersionNum</th>\n",
       "      <th>WellnessProgramOffered</th>\n",
       "    </tr>\n",
       "  </thead>\n",
       "  <tbody>\n",
       "    <tr>\n",
       "      <th>0</th>\n",
       "      <td>NaN</td>\n",
       "      <td>0</td>\n",
       "      <td>0</td>\n",
       "      <td>1</td>\n",
       "      <td>2014</td>\n",
       "      <td>Standard Low Off Exchange Plan</td>\n",
       "      <td>Allows Adult and Child-Only</td>\n",
       "      <td>NaN</td>\n",
       "      <td>NaN</td>\n",
       "      <td>NaN</td>\n",
       "      <td>...</td>\n",
       "      <td>NaN</td>\n",
       "      <td>NaN</td>\n",
       "      <td>NaN</td>\n",
       "      <td>NaN</td>\n",
       "      <td>93-0438772</td>\n",
       "      <td>https://www.modahealth.com/employers/enroll.shtml</td>\n",
       "      <td>https://www.modahealth.com/producers/grp/den.s...</td>\n",
       "      <td>NaN</td>\n",
       "      <td>6</td>\n",
       "      <td>NaN</td>\n",
       "    </tr>\n",
       "    <tr>\n",
       "      <th>1</th>\n",
       "      <td>NaN</td>\n",
       "      <td>0</td>\n",
       "      <td>0</td>\n",
       "      <td>1</td>\n",
       "      <td>2014</td>\n",
       "      <td>Standard Low On Exchange Plan</td>\n",
       "      <td>Allows Adult and Child-Only</td>\n",
       "      <td>NaN</td>\n",
       "      <td>NaN</td>\n",
       "      <td>NaN</td>\n",
       "      <td>...</td>\n",
       "      <td>NaN</td>\n",
       "      <td>NaN</td>\n",
       "      <td>NaN</td>\n",
       "      <td>NaN</td>\n",
       "      <td>93-0438772</td>\n",
       "      <td>https://www.modahealth.com/employers/enroll.shtml</td>\n",
       "      <td>https://www.modahealth.com/producers/grp/den.s...</td>\n",
       "      <td>NaN</td>\n",
       "      <td>6</td>\n",
       "      <td>NaN</td>\n",
       "    </tr>\n",
       "    <tr>\n",
       "      <th>2</th>\n",
       "      <td>NaN</td>\n",
       "      <td>0</td>\n",
       "      <td>0</td>\n",
       "      <td>1</td>\n",
       "      <td>2014</td>\n",
       "      <td>Standard High Off Exchange Plan</td>\n",
       "      <td>Allows Adult and Child-Only</td>\n",
       "      <td>NaN</td>\n",
       "      <td>NaN</td>\n",
       "      <td>NaN</td>\n",
       "      <td>...</td>\n",
       "      <td>NaN</td>\n",
       "      <td>NaN</td>\n",
       "      <td>NaN</td>\n",
       "      <td>NaN</td>\n",
       "      <td>93-0438772</td>\n",
       "      <td>https://www.modahealth.com/employers/enroll.shtml</td>\n",
       "      <td>https://www.modahealth.com/producers/grp/den.s...</td>\n",
       "      <td>NaN</td>\n",
       "      <td>6</td>\n",
       "      <td>NaN</td>\n",
       "    </tr>\n",
       "  </tbody>\n",
       "</table>\n",
       "<p>3 rows × 176 columns</p>\n",
       "</div>"
      ],
      "text/plain": [
       "  AVCalculatorOutputNumber  BeginPrimaryCareCostSharingAfterNumberOfVisits  \\\n",
       "0                      NaN                                               0   \n",
       "1                      NaN                                               0   \n",
       "2                      NaN                                               0   \n",
       "\n",
       "   BeginPrimaryCareDeductibleCoinsuranceAfterNumberOfCopays  BenefitPackageId  \\\n",
       "0                                                  0                        1   \n",
       "1                                                  0                        1   \n",
       "2                                                  0                        1   \n",
       "\n",
       "   BusinessYear                 CSRVariationType            ChildOnlyOffering  \\\n",
       "0          2014   Standard Low Off Exchange Plan  Allows Adult and Child-Only   \n",
       "1          2014    Standard Low On Exchange Plan  Allows Adult and Child-Only   \n",
       "2          2014  Standard High Off Exchange Plan  Allows Adult and Child-Only   \n",
       "\n",
       "  ChildOnlyPlanId CompositeRatingOffered DEHBCombInnOonFamilyMOOP  \\\n",
       "0             NaN                    NaN                      NaN   \n",
       "1             NaN                    NaN                      NaN   \n",
       "2             NaN                    NaN                      NaN   \n",
       "\n",
       "           ...           TEHBOutOfNetFamilyMOOP  \\\n",
       "0          ...                              NaN   \n",
       "1          ...                              NaN   \n",
       "2          ...                              NaN   \n",
       "\n",
       "  TEHBOutOfNetFamilyPerGroupMOOP TEHBOutOfNetFamilyPerPersonMOOP  \\\n",
       "0                            NaN                             NaN   \n",
       "1                            NaN                             NaN   \n",
       "2                            NaN                             NaN   \n",
       "\n",
       "  TEHBOutOfNetIndividualMOOP         TIN  \\\n",
       "0                        NaN  93-0438772   \n",
       "1                        NaN  93-0438772   \n",
       "2                        NaN  93-0438772   \n",
       "\n",
       "                             URLForEnrollmentPayment  \\\n",
       "0  https://www.modahealth.com/employers/enroll.shtml   \n",
       "1  https://www.modahealth.com/employers/enroll.shtml   \n",
       "2  https://www.modahealth.com/employers/enroll.shtml   \n",
       "\n",
       "                     URLForSummaryofBenefitsCoverage UniquePlanDesign  \\\n",
       "0  https://www.modahealth.com/producers/grp/den.s...              NaN   \n",
       "1  https://www.modahealth.com/producers/grp/den.s...              NaN   \n",
       "2  https://www.modahealth.com/producers/grp/den.s...              NaN   \n",
       "\n",
       "  VersionNum WellnessProgramOffered  \n",
       "0          6                    NaN  \n",
       "1          6                    NaN  \n",
       "2          6                    NaN  \n",
       "\n",
       "[3 rows x 176 columns]"
      ]
     },
     "execution_count": 5,
     "metadata": {},
     "output_type": "execute_result"
    }
   ],
   "source": [
    "PlanAttributes_Raw = pd.read_csv(\"PlanAttributes.csv\")\n",
    "PlanAttributes_Raw.head(3)"
   ]
  },
  {
   "cell_type": "markdown",
   "metadata": {},
   "source": [
    "Escolhendo os recursos que vou utilizar"
   ]
  },
  {
   "cell_type": "code",
   "execution_count": 6,
   "metadata": {
    "scrolled": true
   },
   "outputs": [
    {
     "data": {
      "text/html": [
       "<div>\n",
       "<style>\n",
       "    .dataframe thead tr:only-child th {\n",
       "        text-align: right;\n",
       "    }\n",
       "\n",
       "    .dataframe thead th {\n",
       "        text-align: left;\n",
       "    }\n",
       "\n",
       "    .dataframe tbody tr th {\n",
       "        vertical-align: top;\n",
       "    }\n",
       "</style>\n",
       "<table border=\"1\" class=\"dataframe\">\n",
       "  <thead>\n",
       "    <tr style=\"text-align: right;\">\n",
       "      <th></th>\n",
       "      <th>BusinessYear</th>\n",
       "      <th>StateCode</th>\n",
       "      <th>IssuerId</th>\n",
       "      <th>ImportDate</th>\n",
       "      <th>PlanId</th>\n",
       "      <th>MetalLevel</th>\n",
       "      <th>TEHBInnTier1FamilyMOOP</th>\n",
       "      <th>TEHBInnTier1IndividualMOOP</th>\n",
       "    </tr>\n",
       "  </thead>\n",
       "  <tbody>\n",
       "    <tr>\n",
       "      <th>0</th>\n",
       "      <td>2014</td>\n",
       "      <td>AK</td>\n",
       "      <td>21989</td>\n",
       "      <td>2014-03-19 07:06:49</td>\n",
       "      <td>21989AK0020002-00</td>\n",
       "      <td>Low</td>\n",
       "      <td>NaN</td>\n",
       "      <td>NaN</td>\n",
       "    </tr>\n",
       "    <tr>\n",
       "      <th>1</th>\n",
       "      <td>2014</td>\n",
       "      <td>AK</td>\n",
       "      <td>21989</td>\n",
       "      <td>2014-03-19 07:06:49</td>\n",
       "      <td>21989AK0020002-01</td>\n",
       "      <td>Low</td>\n",
       "      <td>NaN</td>\n",
       "      <td>NaN</td>\n",
       "    </tr>\n",
       "    <tr>\n",
       "      <th>2</th>\n",
       "      <td>2014</td>\n",
       "      <td>AK</td>\n",
       "      <td>21989</td>\n",
       "      <td>2014-03-19 07:06:49</td>\n",
       "      <td>21989AK0020001-00</td>\n",
       "      <td>High</td>\n",
       "      <td>NaN</td>\n",
       "      <td>NaN</td>\n",
       "    </tr>\n",
       "  </tbody>\n",
       "</table>\n",
       "</div>"
      ],
      "text/plain": [
       "   BusinessYear StateCode  IssuerId           ImportDate             PlanId  \\\n",
       "0          2014        AK     21989  2014-03-19 07:06:49  21989AK0020002-00   \n",
       "1          2014        AK     21989  2014-03-19 07:06:49  21989AK0020002-01   \n",
       "2          2014        AK     21989  2014-03-19 07:06:49  21989AK0020001-00   \n",
       "\n",
       "  MetalLevel TEHBInnTier1FamilyMOOP TEHBInnTier1IndividualMOOP  \n",
       "0        Low                    NaN                        NaN  \n",
       "1        Low                    NaN                        NaN  \n",
       "2       High                    NaN                        NaN  "
      ]
     },
     "execution_count": 6,
     "metadata": {},
     "output_type": "execute_result"
    }
   ],
   "source": [
    "PlanAttributes_Data=PlanAttributes_Raw[['BusinessYear','StateCode','IssuerId','ImportDate','PlanId','MetalLevel',\n",
    "                                        'TEHBInnTier1FamilyMOOP','TEHBInnTier1IndividualMOOP']]\n",
    "PlanAttributes_Data.head(3)"
   ]
  },
  {
   "cell_type": "markdown",
   "metadata": {},
   "source": [
    "Exportando o quadro de dados que está em outro arquivo"
   ]
  },
  {
   "cell_type": "code",
   "execution_count": 7,
   "metadata": {
    "collapsed": true
   },
   "outputs": [],
   "source": [
    "PlanAttributes_Data.to_csv(\"PlanAttributes_data.csv\")"
   ]
  },
  {
   "cell_type": "markdown",
   "metadata": {},
   "source": [
    "Avaliando o conjunto de dados"
   ]
  },
  {
   "cell_type": "markdown",
   "metadata": {},
   "source": [
    "Agora posso utilizar o arquivo Rate_Data diretamente"
   ]
  },
  {
   "cell_type": "code",
   "execution_count": 18,
   "metadata": {},
   "outputs": [
    {
     "data": {
      "text/html": [
       "<div>\n",
       "<style>\n",
       "    .dataframe thead tr:only-child th {\n",
       "        text-align: right;\n",
       "    }\n",
       "\n",
       "    .dataframe thead th {\n",
       "        text-align: left;\n",
       "    }\n",
       "\n",
       "    .dataframe tbody tr th {\n",
       "        vertical-align: top;\n",
       "    }\n",
       "</style>\n",
       "<table border=\"1\" class=\"dataframe\">\n",
       "  <thead>\n",
       "    <tr style=\"text-align: right;\">\n",
       "      <th></th>\n",
       "      <th>Unnamed: 0</th>\n",
       "      <th>BusinessYear</th>\n",
       "      <th>StateCode</th>\n",
       "      <th>IssuerId</th>\n",
       "      <th>ImportDate</th>\n",
       "      <th>PlanId</th>\n",
       "      <th>Age</th>\n",
       "      <th>IndividualRate</th>\n",
       "      <th>Couple</th>\n",
       "      <th>CoupleAndOneDependent</th>\n",
       "      <th>CoupleAndTwoDependents</th>\n",
       "      <th>CoupleAndThreeOrMoreDependents</th>\n",
       "    </tr>\n",
       "  </thead>\n",
       "  <tbody>\n",
       "    <tr>\n",
       "      <th>0</th>\n",
       "      <td>0</td>\n",
       "      <td>2014</td>\n",
       "      <td>AK</td>\n",
       "      <td>21989</td>\n",
       "      <td>2014-03-19 07:06:49</td>\n",
       "      <td>21989AK0010001</td>\n",
       "      <td>0-20</td>\n",
       "      <td>29.00</td>\n",
       "      <td>NaN</td>\n",
       "      <td>NaN</td>\n",
       "      <td>NaN</td>\n",
       "      <td>NaN</td>\n",
       "    </tr>\n",
       "    <tr>\n",
       "      <th>1</th>\n",
       "      <td>1</td>\n",
       "      <td>2014</td>\n",
       "      <td>AK</td>\n",
       "      <td>21989</td>\n",
       "      <td>2014-03-19 07:06:49</td>\n",
       "      <td>21989AK0020001</td>\n",
       "      <td>Family Option</td>\n",
       "      <td>36.95</td>\n",
       "      <td>73.9</td>\n",
       "      <td>144.56</td>\n",
       "      <td>144.56</td>\n",
       "      <td>144.56</td>\n",
       "    </tr>\n",
       "    <tr>\n",
       "      <th>2</th>\n",
       "      <td>2</td>\n",
       "      <td>2014</td>\n",
       "      <td>AK</td>\n",
       "      <td>21989</td>\n",
       "      <td>2014-03-19 07:06:49</td>\n",
       "      <td>21989AK0020001</td>\n",
       "      <td>Family Option</td>\n",
       "      <td>36.95</td>\n",
       "      <td>73.9</td>\n",
       "      <td>144.56</td>\n",
       "      <td>144.56</td>\n",
       "      <td>144.56</td>\n",
       "    </tr>\n",
       "  </tbody>\n",
       "</table>\n",
       "</div>"
      ],
      "text/plain": [
       "   Unnamed: 0  BusinessYear StateCode  IssuerId           ImportDate  \\\n",
       "0           0          2014        AK     21989  2014-03-19 07:06:49   \n",
       "1           1          2014        AK     21989  2014-03-19 07:06:49   \n",
       "2           2          2014        AK     21989  2014-03-19 07:06:49   \n",
       "\n",
       "           PlanId            Age  IndividualRate  Couple  \\\n",
       "0  21989AK0010001           0-20           29.00     NaN   \n",
       "1  21989AK0020001  Family Option           36.95    73.9   \n",
       "2  21989AK0020001  Family Option           36.95    73.9   \n",
       "\n",
       "   CoupleAndOneDependent  CoupleAndTwoDependents  \\\n",
       "0                    NaN                     NaN   \n",
       "1                 144.56                  144.56   \n",
       "2                 144.56                  144.56   \n",
       "\n",
       "   CoupleAndThreeOrMoreDependents  \n",
       "0                             NaN  \n",
       "1                          144.56  \n",
       "2                          144.56  "
      ]
     },
     "execution_count": 18,
     "metadata": {},
     "output_type": "execute_result"
    }
   ],
   "source": [
    "RateData=pd.read_csv(\"Rate_Date.csv\")\n",
    "RateData.head(3)"
   ]
  },
  {
   "cell_type": "markdown",
   "metadata": {},
   "source": [
    "Limpando os dados com taxa acima de 9.000"
   ]
  },
  {
   "cell_type": "code",
   "execution_count": 19,
   "metadata": {},
   "outputs": [
    {
     "data": {
      "text/plain": [
       "array([999999.  ,   9999.  ,   9999.99])"
      ]
     },
     "execution_count": 19,
     "metadata": {},
     "output_type": "execute_result"
    }
   ],
   "source": [
    "RateData[RateData.IndividualRate>9000].IndividualRate.unique()"
   ]
  },
  {
   "cell_type": "code",
   "execution_count": 20,
   "metadata": {
    "scrolled": true
   },
   "outputs": [
    {
     "data": {
      "text/html": [
       "<div>\n",
       "<style>\n",
       "    .dataframe thead tr:only-child th {\n",
       "        text-align: right;\n",
       "    }\n",
       "\n",
       "    .dataframe thead th {\n",
       "        text-align: left;\n",
       "    }\n",
       "\n",
       "    .dataframe tbody tr th {\n",
       "        vertical-align: top;\n",
       "    }\n",
       "</style>\n",
       "<table border=\"1\" class=\"dataframe\">\n",
       "  <thead>\n",
       "    <tr style=\"text-align: right;\">\n",
       "      <th></th>\n",
       "      <th>Unnamed: 0</th>\n",
       "      <th>BusinessYear</th>\n",
       "      <th>StateCode</th>\n",
       "      <th>IssuerId</th>\n",
       "      <th>ImportDate</th>\n",
       "      <th>PlanId</th>\n",
       "      <th>Age</th>\n",
       "      <th>IndividualRate</th>\n",
       "      <th>Couple</th>\n",
       "      <th>CoupleAndOneDependent</th>\n",
       "      <th>CoupleAndTwoDependents</th>\n",
       "      <th>CoupleAndThreeOrMoreDependents</th>\n",
       "    </tr>\n",
       "  </thead>\n",
       "  <tbody>\n",
       "    <tr>\n",
       "      <th>0</th>\n",
       "      <td>0</td>\n",
       "      <td>2014</td>\n",
       "      <td>AK</td>\n",
       "      <td>21989</td>\n",
       "      <td>2014-03-19 07:06:49</td>\n",
       "      <td>21989AK0010001</td>\n",
       "      <td>0-20</td>\n",
       "      <td>29.00</td>\n",
       "      <td>NaN</td>\n",
       "      <td>NaN</td>\n",
       "      <td>NaN</td>\n",
       "      <td>NaN</td>\n",
       "    </tr>\n",
       "    <tr>\n",
       "      <th>1</th>\n",
       "      <td>1</td>\n",
       "      <td>2014</td>\n",
       "      <td>AK</td>\n",
       "      <td>21989</td>\n",
       "      <td>2014-03-19 07:06:49</td>\n",
       "      <td>21989AK0020001</td>\n",
       "      <td>Family Option</td>\n",
       "      <td>36.95</td>\n",
       "      <td>73.9</td>\n",
       "      <td>144.56</td>\n",
       "      <td>144.56</td>\n",
       "      <td>144.56</td>\n",
       "    </tr>\n",
       "    <tr>\n",
       "      <th>2</th>\n",
       "      <td>2</td>\n",
       "      <td>2014</td>\n",
       "      <td>AK</td>\n",
       "      <td>21989</td>\n",
       "      <td>2014-03-19 07:06:49</td>\n",
       "      <td>21989AK0020001</td>\n",
       "      <td>Family Option</td>\n",
       "      <td>36.95</td>\n",
       "      <td>73.9</td>\n",
       "      <td>144.56</td>\n",
       "      <td>144.56</td>\n",
       "      <td>144.56</td>\n",
       "    </tr>\n",
       "  </tbody>\n",
       "</table>\n",
       "</div>"
      ],
      "text/plain": [
       "   Unnamed: 0  BusinessYear StateCode  IssuerId           ImportDate  \\\n",
       "0           0          2014        AK     21989  2014-03-19 07:06:49   \n",
       "1           1          2014        AK     21989  2014-03-19 07:06:49   \n",
       "2           2          2014        AK     21989  2014-03-19 07:06:49   \n",
       "\n",
       "           PlanId            Age  IndividualRate  Couple  \\\n",
       "0  21989AK0010001           0-20           29.00     NaN   \n",
       "1  21989AK0020001  Family Option           36.95    73.9   \n",
       "2  21989AK0020001  Family Option           36.95    73.9   \n",
       "\n",
       "   CoupleAndOneDependent  CoupleAndTwoDependents  \\\n",
       "0                    NaN                     NaN   \n",
       "1                 144.56                  144.56   \n",
       "2                 144.56                  144.56   \n",
       "\n",
       "   CoupleAndThreeOrMoreDependents  \n",
       "0                             NaN  \n",
       "1                          144.56  \n",
       "2                          144.56  "
      ]
     },
     "execution_count": 20,
     "metadata": {},
     "output_type": "execute_result"
    }
   ],
   "source": [
    "RateData = RateData[RateData.IndividualRate < 9000]\n",
    "RateData.head(3)"
   ]
  },
  {
   "cell_type": "markdown",
   "metadata": {},
   "source": [
    "Vou fazer a análise dos planos opções familiares, por isso que eu exclui todos os planos que são para idades especiais"
   ]
  },
  {
   "cell_type": "code",
   "execution_count": 21,
   "metadata": {},
   "outputs": [
    {
     "data": {
      "text/html": [
       "<div>\n",
       "<style>\n",
       "    .dataframe thead tr:only-child th {\n",
       "        text-align: right;\n",
       "    }\n",
       "\n",
       "    .dataframe thead th {\n",
       "        text-align: left;\n",
       "    }\n",
       "\n",
       "    .dataframe tbody tr th {\n",
       "        vertical-align: top;\n",
       "    }\n",
       "</style>\n",
       "<table border=\"1\" class=\"dataframe\">\n",
       "  <thead>\n",
       "    <tr style=\"text-align: right;\">\n",
       "      <th></th>\n",
       "      <th>Unnamed: 0</th>\n",
       "      <th>BusinessYear</th>\n",
       "      <th>StateCode</th>\n",
       "      <th>IssuerId</th>\n",
       "      <th>ImportDate</th>\n",
       "      <th>PlanId</th>\n",
       "      <th>Age</th>\n",
       "      <th>IndividualRate</th>\n",
       "      <th>Couple</th>\n",
       "      <th>CoupleAndOneDependent</th>\n",
       "      <th>CoupleAndTwoDependents</th>\n",
       "      <th>CoupleAndThreeOrMoreDependents</th>\n",
       "    </tr>\n",
       "  </thead>\n",
       "  <tbody>\n",
       "    <tr>\n",
       "      <th>1</th>\n",
       "      <td>1</td>\n",
       "      <td>2014</td>\n",
       "      <td>AK</td>\n",
       "      <td>21989</td>\n",
       "      <td>2014-03-19 07:06:49</td>\n",
       "      <td>21989AK0020001</td>\n",
       "      <td>Family Option</td>\n",
       "      <td>36.95</td>\n",
       "      <td>73.9</td>\n",
       "      <td>144.56</td>\n",
       "      <td>144.56</td>\n",
       "      <td>144.56</td>\n",
       "    </tr>\n",
       "    <tr>\n",
       "      <th>2</th>\n",
       "      <td>2</td>\n",
       "      <td>2014</td>\n",
       "      <td>AK</td>\n",
       "      <td>21989</td>\n",
       "      <td>2014-03-19 07:06:49</td>\n",
       "      <td>21989AK0020001</td>\n",
       "      <td>Family Option</td>\n",
       "      <td>36.95</td>\n",
       "      <td>73.9</td>\n",
       "      <td>144.56</td>\n",
       "      <td>144.56</td>\n",
       "      <td>144.56</td>\n",
       "    </tr>\n",
       "    <tr>\n",
       "      <th>5</th>\n",
       "      <td>5</td>\n",
       "      <td>2014</td>\n",
       "      <td>AK</td>\n",
       "      <td>21989</td>\n",
       "      <td>2014-03-19 07:06:49</td>\n",
       "      <td>21989AK0020001</td>\n",
       "      <td>Family Option</td>\n",
       "      <td>36.95</td>\n",
       "      <td>73.9</td>\n",
       "      <td>144.56</td>\n",
       "      <td>144.56</td>\n",
       "      <td>144.56</td>\n",
       "    </tr>\n",
       "  </tbody>\n",
       "</table>\n",
       "</div>"
      ],
      "text/plain": [
       "   Unnamed: 0  BusinessYear StateCode  IssuerId           ImportDate  \\\n",
       "1           1          2014        AK     21989  2014-03-19 07:06:49   \n",
       "2           2          2014        AK     21989  2014-03-19 07:06:49   \n",
       "5           5          2014        AK     21989  2014-03-19 07:06:49   \n",
       "\n",
       "           PlanId            Age  IndividualRate  Couple  \\\n",
       "1  21989AK0020001  Family Option           36.95    73.9   \n",
       "2  21989AK0020001  Family Option           36.95    73.9   \n",
       "5  21989AK0020001  Family Option           36.95    73.9   \n",
       "\n",
       "   CoupleAndOneDependent  CoupleAndTwoDependents  \\\n",
       "1                 144.56                  144.56   \n",
       "2                 144.56                  144.56   \n",
       "5                 144.56                  144.56   \n",
       "\n",
       "   CoupleAndThreeOrMoreDependents  \n",
       "1                          144.56  \n",
       "2                          144.56  \n",
       "5                          144.56  "
      ]
     },
     "execution_count": 21,
     "metadata": {},
     "output_type": "execute_result"
    }
   ],
   "source": [
    "RateData_FO = RateData[RateData.Age == \"Family Option\"]\n",
    "RateData_FO.head(3)"
   ]
  },
  {
   "cell_type": "markdown",
   "metadata": {},
   "source": [
    "Vou mudar a coluna ImportDate para date time"
   ]
  },
  {
   "cell_type": "code",
   "execution_count": 23,
   "metadata": {
    "scrolled": true
   },
   "outputs": [
    {
     "name": "stderr",
     "output_type": "stream",
     "text": [
      "/home/rielson/anaconda3/lib/python3.6/site-packages/ipykernel_launcher.py:1: SettingWithCopyWarning: \n",
      "A value is trying to be set on a copy of a slice from a DataFrame.\n",
      "Try using .loc[row_indexer,col_indexer] = value instead\n",
      "\n",
      "See the caveats in the documentation: http://pandas.pydata.org/pandas-docs/stable/indexing.html#indexing-view-versus-copy\n",
      "  \"\"\"Entry point for launching an IPython kernel.\n"
     ]
    }
   ],
   "source": [
    "RateData_FO['ImportDate']=RateData_FO['ImportDate'].apply(pd.to_datetime)"
   ]
  },
  {
   "cell_type": "markdown",
   "metadata": {},
   "source": [
    "Como não vou utilizar a coluna Unnamed: 0 vou apagar"
   ]
  },
  {
   "cell_type": "code",
   "execution_count": 30,
   "metadata": {},
   "outputs": [
    {
     "data": {
      "text/html": [
       "<div>\n",
       "<style>\n",
       "    .dataframe thead tr:only-child th {\n",
       "        text-align: right;\n",
       "    }\n",
       "\n",
       "    .dataframe thead th {\n",
       "        text-align: left;\n",
       "    }\n",
       "\n",
       "    .dataframe tbody tr th {\n",
       "        vertical-align: top;\n",
       "    }\n",
       "</style>\n",
       "<table border=\"1\" class=\"dataframe\">\n",
       "  <thead>\n",
       "    <tr style=\"text-align: right;\">\n",
       "      <th></th>\n",
       "      <th>BusinessYear</th>\n",
       "      <th>StateCode</th>\n",
       "      <th>IssuerId</th>\n",
       "      <th>ImportDate</th>\n",
       "      <th>PlanId</th>\n",
       "      <th>Age</th>\n",
       "      <th>IndividualRate</th>\n",
       "      <th>Couple</th>\n",
       "      <th>CoupleAndOneDependent</th>\n",
       "      <th>CoupleAndTwoDependents</th>\n",
       "      <th>CoupleAndThreeOrMoreDependents</th>\n",
       "    </tr>\n",
       "  </thead>\n",
       "  <tbody>\n",
       "    <tr>\n",
       "      <th>1</th>\n",
       "      <td>2014</td>\n",
       "      <td>AK</td>\n",
       "      <td>21989</td>\n",
       "      <td>2014-03-19 07:06:49</td>\n",
       "      <td>21989AK0020001</td>\n",
       "      <td>Family Option</td>\n",
       "      <td>36.95</td>\n",
       "      <td>73.9</td>\n",
       "      <td>144.56</td>\n",
       "      <td>144.56</td>\n",
       "      <td>144.56</td>\n",
       "    </tr>\n",
       "    <tr>\n",
       "      <th>2</th>\n",
       "      <td>2014</td>\n",
       "      <td>AK</td>\n",
       "      <td>21989</td>\n",
       "      <td>2014-03-19 07:06:49</td>\n",
       "      <td>21989AK0020001</td>\n",
       "      <td>Family Option</td>\n",
       "      <td>36.95</td>\n",
       "      <td>73.9</td>\n",
       "      <td>144.56</td>\n",
       "      <td>144.56</td>\n",
       "      <td>144.56</td>\n",
       "    </tr>\n",
       "    <tr>\n",
       "      <th>5</th>\n",
       "      <td>2014</td>\n",
       "      <td>AK</td>\n",
       "      <td>21989</td>\n",
       "      <td>2014-03-19 07:06:49</td>\n",
       "      <td>21989AK0020001</td>\n",
       "      <td>Family Option</td>\n",
       "      <td>36.95</td>\n",
       "      <td>73.9</td>\n",
       "      <td>144.56</td>\n",
       "      <td>144.56</td>\n",
       "      <td>144.56</td>\n",
       "    </tr>\n",
       "  </tbody>\n",
       "</table>\n",
       "</div>"
      ],
      "text/plain": [
       "   BusinessYear StateCode  IssuerId          ImportDate          PlanId  \\\n",
       "1          2014        AK     21989 2014-03-19 07:06:49  21989AK0020001   \n",
       "2          2014        AK     21989 2014-03-19 07:06:49  21989AK0020001   \n",
       "5          2014        AK     21989 2014-03-19 07:06:49  21989AK0020001   \n",
       "\n",
       "             Age  IndividualRate  Couple  CoupleAndOneDependent  \\\n",
       "1  Family Option           36.95    73.9                 144.56   \n",
       "2  Family Option           36.95    73.9                 144.56   \n",
       "5  Family Option           36.95    73.9                 144.56   \n",
       "\n",
       "   CoupleAndTwoDependents  CoupleAndThreeOrMoreDependents  \n",
       "1                  144.56                          144.56  \n",
       "2                  144.56                          144.56  \n",
       "5                  144.56                          144.56  "
      ]
     },
     "execution_count": 30,
     "metadata": {},
     "output_type": "execute_result"
    }
   ],
   "source": [
    "RateData_FO=RateData_FO.drop(RateData_FO[['Unnamed: 0']], 1)\n",
    "RateData_FO.head(3)"
   ]
  },
  {
   "cell_type": "markdown",
   "metadata": {},
   "source": [
    "O conjunto de dados Rate é adequado para ser utilizado na visualização e na previsão"
   ]
  },
  {
   "cell_type": "code",
   "execution_count": 31,
   "metadata": {
    "collapsed": true
   },
   "outputs": [],
   "source": [
    "RateData_FO_1=RateData_FO\n",
    "RateData_FO_2=RateData_FO\n",
    "RateData_FO_3=RateData_FO"
   ]
  },
  {
   "cell_type": "markdown",
   "metadata": {},
   "source": [
    "Plan Attributes Dataset"
   ]
  },
  {
   "cell_type": "markdown",
   "metadata": {},
   "source": [
    "### Fazendo a limpeza dos dados Plan Attributes\n",
    "\n",
    "lendos os dados"
   ]
  },
  {
   "cell_type": "code",
   "execution_count": 59,
   "metadata": {
    "scrolled": true
   },
   "outputs": [
    {
     "name": "stderr",
     "output_type": "stream",
     "text": [
      "/home/rielson/anaconda3/lib/python3.6/site-packages/IPython/core/interactiveshell.py:2698: DtypeWarning: Columns (7) have mixed types. Specify dtype option on import or set low_memory=False.\n",
      "  interactivity=interactivity, compiler=compiler, result=result)\n"
     ]
    },
    {
     "data": {
      "text/html": [
       "<div>\n",
       "<style>\n",
       "    .dataframe thead tr:only-child th {\n",
       "        text-align: right;\n",
       "    }\n",
       "\n",
       "    .dataframe thead th {\n",
       "        text-align: left;\n",
       "    }\n",
       "\n",
       "    .dataframe tbody tr th {\n",
       "        vertical-align: top;\n",
       "    }\n",
       "</style>\n",
       "<table border=\"1\" class=\"dataframe\">\n",
       "  <thead>\n",
       "    <tr style=\"text-align: right;\">\n",
       "      <th></th>\n",
       "      <th>Unnamed: 0</th>\n",
       "      <th>BusinessYear</th>\n",
       "      <th>StateCode</th>\n",
       "      <th>IssuerId</th>\n",
       "      <th>ImportDate</th>\n",
       "      <th>PlanId</th>\n",
       "      <th>MetalLevel</th>\n",
       "      <th>TEHBInnTier1FamilyMOOP</th>\n",
       "      <th>TEHBInnTier1IndividualMOOP</th>\n",
       "    </tr>\n",
       "  </thead>\n",
       "  <tbody>\n",
       "    <tr>\n",
       "      <th>0</th>\n",
       "      <td>0</td>\n",
       "      <td>2014</td>\n",
       "      <td>AK</td>\n",
       "      <td>21989</td>\n",
       "      <td>2014-03-19 07:06:49</td>\n",
       "      <td>21989AK0020002-00</td>\n",
       "      <td>Low</td>\n",
       "      <td>NaN</td>\n",
       "      <td>NaN</td>\n",
       "    </tr>\n",
       "    <tr>\n",
       "      <th>1</th>\n",
       "      <td>1</td>\n",
       "      <td>2014</td>\n",
       "      <td>AK</td>\n",
       "      <td>21989</td>\n",
       "      <td>2014-03-19 07:06:49</td>\n",
       "      <td>21989AK0020002-01</td>\n",
       "      <td>Low</td>\n",
       "      <td>NaN</td>\n",
       "      <td>NaN</td>\n",
       "    </tr>\n",
       "    <tr>\n",
       "      <th>2</th>\n",
       "      <td>2</td>\n",
       "      <td>2014</td>\n",
       "      <td>AK</td>\n",
       "      <td>21989</td>\n",
       "      <td>2014-03-19 07:06:49</td>\n",
       "      <td>21989AK0020001-00</td>\n",
       "      <td>High</td>\n",
       "      <td>NaN</td>\n",
       "      <td>NaN</td>\n",
       "    </tr>\n",
       "  </tbody>\n",
       "</table>\n",
       "</div>"
      ],
      "text/plain": [
       "   Unnamed: 0  BusinessYear StateCode  IssuerId           ImportDate  \\\n",
       "0           0          2014        AK     21989  2014-03-19 07:06:49   \n",
       "1           1          2014        AK     21989  2014-03-19 07:06:49   \n",
       "2           2          2014        AK     21989  2014-03-19 07:06:49   \n",
       "\n",
       "              PlanId MetalLevel TEHBInnTier1FamilyMOOP  \\\n",
       "0  21989AK0020002-00        Low                    NaN   \n",
       "1  21989AK0020002-01        Low                    NaN   \n",
       "2  21989AK0020001-00       High                    NaN   \n",
       "\n",
       "  TEHBInnTier1IndividualMOOP  \n",
       "0                        NaN  \n",
       "1                        NaN  \n",
       "2                        NaN  "
      ]
     },
     "execution_count": 59,
     "metadata": {},
     "output_type": "execute_result"
    }
   ],
   "source": [
    "PlanAttributesData = pd.read_csv(\"PlanAttributes_data.csv\")\n",
    "PlanAttributesData.head(3)"
   ]
  },
  {
   "cell_type": "markdown",
   "metadata": {},
   "source": [
    "Existe alguns dados invaliddos na caluna TEHBInnTier1FamilyMOOP verificando se existe informações validas"
   ]
  },
  {
   "cell_type": "code",
   "execution_count": 74,
   "metadata": {},
   "outputs": [
    {
     "data": {
      "text/plain": [
       "array([99999999, '12700', '8000', '0', '9500', '12000', '10400', '2500',\n",
       "       '1000', '10000', '1500', '7000', '3000', '12600', '6000', '3500',\n",
       "       '2900', '2000', '4000', '12500', '11000', '9600', '9000', '4500',\n",
       "       '5500', '2200', '2800', '1150', '1240', '5000', '2350', '8500',\n",
       "       '5400', '8400', '1600', '800', '5200', '1200', '2400', '4200',\n",
       "       '6400', '3800', '7200', '6500', '2300', '1300', '9200', '8800',\n",
       "       '11500', '2700', '5300', '10500', '4300', '1400', '950', '7300',\n",
       "       '5840', '9800', '8200', '3400', '5600', '7500', '6250', '7050',\n",
       "       '6300', '4700', '3200', '9300', '1100', '10200', '10300', '7700',\n",
       "       '3100', '9750', '9100', '12200', '4400', '9400', '7400', '11200',\n",
       "       '700', '400', '2600', '4600', '3300', '7900', '11400', '10600',\n",
       "       '3600', '5900', '8300', '1700', '6800', '5350', '1660', '11600',\n",
       "       '4230', '10160', '8250', '1508', '7600', '900', '500', '600',\n",
       "       '10360', '3700', '9700', '5800', '3750', '7800', '8700', '3900',\n",
       "       '12650', '10338', '6750', '12675', '6600', '1900', '6900', '12400',\n",
       "       '13200', '12900', '12800', '13000', '11300', '850', '6200',\n",
       "       '11800', '12450', '9150', '9900', '4100', '13100', '1650', '4800',\n",
       "       '300', '9850', '3250', '10950', '7450', '11900', '4150', '4250',\n",
       "       '1250', '12050', '8150', '3050', '2950', '11150', '6700', '11750',\n",
       "       '6350', '11100', '9050', '11550', '11450', '10850', '9650', '7650',\n",
       "       '11250', '11700', '9950', '9450', '3650', '1750', '3850', '1450',\n",
       "       '6150', '11050', '10050', '10700', '8850', '6950', '7850', '3450',\n",
       "       '12700.00', '8900', '1350', '1050', '10800', '7100', '1520',\n",
       "       '8100', '5100', '12550', '8600', '1800', '2100', '10100'],\n",
       "      dtype=object)"
      ]
     },
     "execution_count": 74,
     "metadata": {},
     "output_type": "execute_result"
    }
   ],
   "source": [
    "PlanAttributesData.TEHBInnTier1FamilyMOOP.unique()"
   ]
  },
  {
   "cell_type": "markdown",
   "metadata": {},
   "source": [
    "Existe alguns caracteres do $ dólar e ','. Agora vou limpar esses dados"
   ]
  },
  {
   "cell_type": "code",
   "execution_count": 61,
   "metadata": {
    "scrolled": true
   },
   "outputs": [
    {
     "data": {
      "text/html": [
       "<div>\n",
       "<style>\n",
       "    .dataframe thead tr:only-child th {\n",
       "        text-align: right;\n",
       "    }\n",
       "\n",
       "    .dataframe thead th {\n",
       "        text-align: left;\n",
       "    }\n",
       "\n",
       "    .dataframe tbody tr th {\n",
       "        vertical-align: top;\n",
       "    }\n",
       "</style>\n",
       "<table border=\"1\" class=\"dataframe\">\n",
       "  <thead>\n",
       "    <tr style=\"text-align: right;\">\n",
       "      <th></th>\n",
       "      <th>Unnamed: 0</th>\n",
       "      <th>BusinessYear</th>\n",
       "      <th>StateCode</th>\n",
       "      <th>IssuerId</th>\n",
       "      <th>ImportDate</th>\n",
       "      <th>PlanId</th>\n",
       "      <th>MetalLevel</th>\n",
       "      <th>TEHBInnTier1FamilyMOOP</th>\n",
       "      <th>TEHBInnTier1IndividualMOOP</th>\n",
       "    </tr>\n",
       "  </thead>\n",
       "  <tbody>\n",
       "    <tr>\n",
       "      <th>0</th>\n",
       "      <td>0</td>\n",
       "      <td>2014</td>\n",
       "      <td>AK</td>\n",
       "      <td>21989</td>\n",
       "      <td>2014-03-19 07:06:49</td>\n",
       "      <td>21989AK0020002-00</td>\n",
       "      <td>Low</td>\n",
       "      <td>NaN</td>\n",
       "      <td>NaN</td>\n",
       "    </tr>\n",
       "    <tr>\n",
       "      <th>1</th>\n",
       "      <td>1</td>\n",
       "      <td>2014</td>\n",
       "      <td>AK</td>\n",
       "      <td>21989</td>\n",
       "      <td>2014-03-19 07:06:49</td>\n",
       "      <td>21989AK0020002-01</td>\n",
       "      <td>Low</td>\n",
       "      <td>NaN</td>\n",
       "      <td>NaN</td>\n",
       "    </tr>\n",
       "    <tr>\n",
       "      <th>2</th>\n",
       "      <td>2</td>\n",
       "      <td>2014</td>\n",
       "      <td>AK</td>\n",
       "      <td>21989</td>\n",
       "      <td>2014-03-19 07:06:49</td>\n",
       "      <td>21989AK0020001-00</td>\n",
       "      <td>High</td>\n",
       "      <td>NaN</td>\n",
       "      <td>NaN</td>\n",
       "    </tr>\n",
       "  </tbody>\n",
       "</table>\n",
       "</div>"
      ],
      "text/plain": [
       "   Unnamed: 0  BusinessYear StateCode  IssuerId           ImportDate  \\\n",
       "0           0          2014        AK     21989  2014-03-19 07:06:49   \n",
       "1           1          2014        AK     21989  2014-03-19 07:06:49   \n",
       "2           2          2014        AK     21989  2014-03-19 07:06:49   \n",
       "\n",
       "              PlanId MetalLevel TEHBInnTier1FamilyMOOP  \\\n",
       "0  21989AK0020002-00        Low                    NaN   \n",
       "1  21989AK0020002-01        Low                    NaN   \n",
       "2  21989AK0020001-00       High                    NaN   \n",
       "\n",
       "  TEHBInnTier1IndividualMOOP  \n",
       "0                        NaN  \n",
       "1                        NaN  \n",
       "2                        NaN  "
      ]
     },
     "execution_count": 61,
     "metadata": {},
     "output_type": "execute_result"
    }
   ],
   "source": [
    "PlanAttributesData['TEHBInnTier1FamilyMOOP']=PlanAttributesData['TEHBInnTier1FamilyMOOP'].str.replace('$','').str.replace(',','')\n",
    "PlanAttributesData.head(3)"
   ]
  },
  {
   "cell_type": "markdown",
   "metadata": {},
   "source": [
    "Apagando todas as linhas que não são aplicaveis"
   ]
  },
  {
   "cell_type": "code",
   "execution_count": 75,
   "metadata": {},
   "outputs": [],
   "source": [
    "PlanAttributesData=PlanAttributesData.drop(PlanAttributesData[PlanAttributesData['TEHBInnTier1FamilyMOOP']=='Not Applicable'].index)"
   ]
  },
  {
   "cell_type": "markdown",
   "metadata": {},
   "source": [
    "Excluindo todos os NAN"
   ]
  },
  {
   "cell_type": "code",
   "execution_count": 76,
   "metadata": {
    "collapsed": true
   },
   "outputs": [],
   "source": [
    "PlanAttributesData['TEHBInnTier1FamilyMOOP']=PlanAttributesData['TEHBInnTier1FamilyMOOP'].fillna(99999999)"
   ]
  },
  {
   "cell_type": "code",
   "execution_count": 77,
   "metadata": {
    "collapsed": true
   },
   "outputs": [],
   "source": [
    "PlanAttributesData=PlanAttributesData.drop(PlanAttributesData[PlanAttributesData['TEHBInnTier1FamilyMOOP']==99999999].index)"
   ]
  },
  {
   "cell_type": "markdown",
   "metadata": {},
   "source": [
    "Mudando a coluna ImportDate para date time"
   ]
  },
  {
   "cell_type": "code",
   "execution_count": 78,
   "metadata": {
    "collapsed": true
   },
   "outputs": [],
   "source": [
    "PlanAttributesData['ImportDate']=PlanAttributesData['ImportDate'].apply(pd.to_datetime)"
   ]
  },
  {
   "cell_type": "markdown",
   "metadata": {},
   "source": [
    "Alterando o TEHBInnTier1FamilyMOOP para Family_Up_Limit"
   ]
  },
  {
   "cell_type": "code",
   "execution_count": 79,
   "metadata": {
    "collapsed": true
   },
   "outputs": [],
   "source": [
    "PlanAttributesData['Family_Up_Limit']=''"
   ]
  },
  {
   "cell_type": "code",
   "execution_count": 81,
   "metadata": {},
   "outputs": [],
   "source": [
    "for x in PlanAttributesData.index:\n",
    "    PlanAttributesData.ix[x,\"Family_Up_Limit\"]=float(PlanAttributesData.ix[x,'TEHBInnTier1FamilyMOOP'])\n",
    "PlanAttributesData['Family_Up_Limit']=PlanAttributesData['Family_Up_Limit'].astype(int)"
   ]
  },
  {
   "cell_type": "markdown",
   "metadata": {},
   "source": [
    "Alterando TEHBInnTier1IndividualMOOP para Individual_Up_Limit"
   ]
  },
  {
   "cell_type": "code",
   "execution_count": 82,
   "metadata": {},
   "outputs": [
    {
     "data": {
      "text/html": [
       "<div>\n",
       "<style>\n",
       "    .dataframe thead tr:only-child th {\n",
       "        text-align: right;\n",
       "    }\n",
       "\n",
       "    .dataframe thead th {\n",
       "        text-align: left;\n",
       "    }\n",
       "\n",
       "    .dataframe tbody tr th {\n",
       "        vertical-align: top;\n",
       "    }\n",
       "</style>\n",
       "<table border=\"1\" class=\"dataframe\">\n",
       "  <thead>\n",
       "    <tr style=\"text-align: right;\">\n",
       "      <th></th>\n",
       "      <th>Unnamed: 0</th>\n",
       "      <th>BusinessYear</th>\n",
       "      <th>StateCode</th>\n",
       "      <th>IssuerId</th>\n",
       "      <th>ImportDate</th>\n",
       "      <th>PlanId</th>\n",
       "      <th>MetalLevel</th>\n",
       "      <th>TEHBInnTier1FamilyMOOP</th>\n",
       "      <th>TEHBInnTier1IndividualMOOP</th>\n",
       "      <th>Family_Up_Limit</th>\n",
       "      <th>Individual_Up_Limit</th>\n",
       "    </tr>\n",
       "  </thead>\n",
       "  <tbody>\n",
       "    <tr>\n",
       "      <th>6</th>\n",
       "      <td>6</td>\n",
       "      <td>2014</td>\n",
       "      <td>AK</td>\n",
       "      <td>73836</td>\n",
       "      <td>2014-04-18 11:49:29</td>\n",
       "      <td>73836AK0650002-00</td>\n",
       "      <td>Bronze</td>\n",
       "      <td>12700</td>\n",
       "      <td>6350</td>\n",
       "      <td>12700</td>\n",
       "      <td>6350</td>\n",
       "    </tr>\n",
       "    <tr>\n",
       "      <th>7</th>\n",
       "      <td>7</td>\n",
       "      <td>2014</td>\n",
       "      <td>AK</td>\n",
       "      <td>73836</td>\n",
       "      <td>2014-04-18 11:49:29</td>\n",
       "      <td>73836AK0680004-00</td>\n",
       "      <td>Gold</td>\n",
       "      <td>8000</td>\n",
       "      <td>4000</td>\n",
       "      <td>8000</td>\n",
       "      <td>4000</td>\n",
       "    </tr>\n",
       "    <tr>\n",
       "      <th>8</th>\n",
       "      <td>8</td>\n",
       "      <td>2014</td>\n",
       "      <td>AK</td>\n",
       "      <td>73836</td>\n",
       "      <td>2014-04-18 11:49:29</td>\n",
       "      <td>73836AK0680004-01</td>\n",
       "      <td>Gold</td>\n",
       "      <td>8000</td>\n",
       "      <td>4000</td>\n",
       "      <td>8000</td>\n",
       "      <td>4000</td>\n",
       "    </tr>\n",
       "  </tbody>\n",
       "</table>\n",
       "</div>"
      ],
      "text/plain": [
       "   Unnamed: 0  BusinessYear StateCode  IssuerId          ImportDate  \\\n",
       "6           6          2014        AK     73836 2014-04-18 11:49:29   \n",
       "7           7          2014        AK     73836 2014-04-18 11:49:29   \n",
       "8           8          2014        AK     73836 2014-04-18 11:49:29   \n",
       "\n",
       "              PlanId MetalLevel TEHBInnTier1FamilyMOOP  \\\n",
       "6  73836AK0650002-00     Bronze                  12700   \n",
       "7  73836AK0680004-00       Gold                   8000   \n",
       "8  73836AK0680004-01       Gold                   8000   \n",
       "\n",
       "  TEHBInnTier1IndividualMOOP  Family_Up_Limit  Individual_Up_Limit  \n",
       "6                       6350            12700                 6350  \n",
       "7                       4000             8000                 4000  \n",
       "8                       4000             8000                 4000  "
      ]
     },
     "execution_count": 82,
     "metadata": {},
     "output_type": "execute_result"
    }
   ],
   "source": [
    "PlanAttributesData['TEHBInnTier1IndividualMOOP']=PlanAttributesData['TEHBInnTier1IndividualMOOP'].str.replace('$','').str.replace(',','')\n",
    "PlanAttributesData['Individual_Up_Limit']=''\n",
    "for x in PlanAttributesData.index:\n",
    "    PlanAttributesData.ix[x,\"Individual_Up_Limit\"]=float(PlanAttributesData.ix[x,'TEHBInnTier1IndividualMOOP'])\n",
    "PlanAttributesData['Individual_Up_Limit']=PlanAttributesData['Individual_Up_Limit'].astype(int) # Transfer object to int\n",
    "PlanAttributesData.head(3)"
   ]
  },
  {
   "cell_type": "markdown",
   "metadata": {},
   "source": [
    "Apagando as colunas que não vão ser uteis"
   ]
  },
  {
   "cell_type": "code",
   "execution_count": 83,
   "metadata": {},
   "outputs": [
    {
     "data": {
      "text/html": [
       "<div>\n",
       "<style>\n",
       "    .dataframe thead tr:only-child th {\n",
       "        text-align: right;\n",
       "    }\n",
       "\n",
       "    .dataframe thead th {\n",
       "        text-align: left;\n",
       "    }\n",
       "\n",
       "    .dataframe tbody tr th {\n",
       "        vertical-align: top;\n",
       "    }\n",
       "</style>\n",
       "<table border=\"1\" class=\"dataframe\">\n",
       "  <thead>\n",
       "    <tr style=\"text-align: right;\">\n",
       "      <th></th>\n",
       "      <th>Unnamed: 0</th>\n",
       "      <th>BusinessYear</th>\n",
       "      <th>StateCode</th>\n",
       "      <th>IssuerId</th>\n",
       "      <th>ImportDate</th>\n",
       "      <th>PlanId</th>\n",
       "      <th>MetalLevel</th>\n",
       "      <th>Family_Up_Limit</th>\n",
       "      <th>Individual_Up_Limit</th>\n",
       "    </tr>\n",
       "  </thead>\n",
       "  <tbody>\n",
       "    <tr>\n",
       "      <th>6</th>\n",
       "      <td>6</td>\n",
       "      <td>2014</td>\n",
       "      <td>AK</td>\n",
       "      <td>73836</td>\n",
       "      <td>2014-04-18 11:49:29</td>\n",
       "      <td>73836AK0650002-00</td>\n",
       "      <td>Bronze</td>\n",
       "      <td>12700</td>\n",
       "      <td>6350</td>\n",
       "    </tr>\n",
       "    <tr>\n",
       "      <th>7</th>\n",
       "      <td>7</td>\n",
       "      <td>2014</td>\n",
       "      <td>AK</td>\n",
       "      <td>73836</td>\n",
       "      <td>2014-04-18 11:49:29</td>\n",
       "      <td>73836AK0680004-00</td>\n",
       "      <td>Gold</td>\n",
       "      <td>8000</td>\n",
       "      <td>4000</td>\n",
       "    </tr>\n",
       "    <tr>\n",
       "      <th>8</th>\n",
       "      <td>8</td>\n",
       "      <td>2014</td>\n",
       "      <td>AK</td>\n",
       "      <td>73836</td>\n",
       "      <td>2014-04-18 11:49:29</td>\n",
       "      <td>73836AK0680004-01</td>\n",
       "      <td>Gold</td>\n",
       "      <td>8000</td>\n",
       "      <td>4000</td>\n",
       "    </tr>\n",
       "  </tbody>\n",
       "</table>\n",
       "</div>"
      ],
      "text/plain": [
       "   Unnamed: 0  BusinessYear StateCode  IssuerId          ImportDate  \\\n",
       "6           6          2014        AK     73836 2014-04-18 11:49:29   \n",
       "7           7          2014        AK     73836 2014-04-18 11:49:29   \n",
       "8           8          2014        AK     73836 2014-04-18 11:49:29   \n",
       "\n",
       "              PlanId MetalLevel  Family_Up_Limit  Individual_Up_Limit  \n",
       "6  73836AK0650002-00     Bronze            12700                 6350  \n",
       "7  73836AK0680004-00       Gold             8000                 4000  \n",
       "8  73836AK0680004-01       Gold             8000                 4000  "
      ]
     },
     "execution_count": 83,
     "metadata": {},
     "output_type": "execute_result"
    }
   ],
   "source": [
    "PlanAttributesData=PlanAttributesData.drop(PlanAttributesData[['TEHBInnTier1FamilyMOOP','TEHBInnTier1IndividualMOOP']],1)\n",
    "PlanAttributesData.head(3)"
   ]
  },
  {
   "cell_type": "code",
   "execution_count": 84,
   "metadata": {},
   "outputs": [
    {
     "data": {
      "text/html": [
       "<div>\n",
       "<style>\n",
       "    .dataframe thead tr:only-child th {\n",
       "        text-align: right;\n",
       "    }\n",
       "\n",
       "    .dataframe thead th {\n",
       "        text-align: left;\n",
       "    }\n",
       "\n",
       "    .dataframe tbody tr th {\n",
       "        vertical-align: top;\n",
       "    }\n",
       "</style>\n",
       "<table border=\"1\" class=\"dataframe\">\n",
       "  <thead>\n",
       "    <tr style=\"text-align: right;\">\n",
       "      <th></th>\n",
       "      <th>BusinessYear</th>\n",
       "      <th>StateCode</th>\n",
       "      <th>IssuerId</th>\n",
       "      <th>ImportDate</th>\n",
       "      <th>PlanId</th>\n",
       "      <th>MetalLevel</th>\n",
       "      <th>Family_Up_Limit</th>\n",
       "      <th>Individual_Up_Limit</th>\n",
       "    </tr>\n",
       "  </thead>\n",
       "  <tbody>\n",
       "    <tr>\n",
       "      <th>6</th>\n",
       "      <td>2014</td>\n",
       "      <td>AK</td>\n",
       "      <td>73836</td>\n",
       "      <td>2014-04-18 11:49:29</td>\n",
       "      <td>73836AK0650002-00</td>\n",
       "      <td>Bronze</td>\n",
       "      <td>12700</td>\n",
       "      <td>6350</td>\n",
       "    </tr>\n",
       "    <tr>\n",
       "      <th>7</th>\n",
       "      <td>2014</td>\n",
       "      <td>AK</td>\n",
       "      <td>73836</td>\n",
       "      <td>2014-04-18 11:49:29</td>\n",
       "      <td>73836AK0680004-00</td>\n",
       "      <td>Gold</td>\n",
       "      <td>8000</td>\n",
       "      <td>4000</td>\n",
       "    </tr>\n",
       "    <tr>\n",
       "      <th>8</th>\n",
       "      <td>2014</td>\n",
       "      <td>AK</td>\n",
       "      <td>73836</td>\n",
       "      <td>2014-04-18 11:49:29</td>\n",
       "      <td>73836AK0680004-01</td>\n",
       "      <td>Gold</td>\n",
       "      <td>8000</td>\n",
       "      <td>4000</td>\n",
       "    </tr>\n",
       "  </tbody>\n",
       "</table>\n",
       "</div>"
      ],
      "text/plain": [
       "   BusinessYear StateCode  IssuerId          ImportDate             PlanId  \\\n",
       "6          2014        AK     73836 2014-04-18 11:49:29  73836AK0650002-00   \n",
       "7          2014        AK     73836 2014-04-18 11:49:29  73836AK0680004-00   \n",
       "8          2014        AK     73836 2014-04-18 11:49:29  73836AK0680004-01   \n",
       "\n",
       "  MetalLevel  Family_Up_Limit  Individual_Up_Limit  \n",
       "6     Bronze            12700                 6350  \n",
       "7       Gold             8000                 4000  \n",
       "8       Gold             8000                 4000  "
      ]
     },
     "execution_count": 84,
     "metadata": {},
     "output_type": "execute_result"
    }
   ],
   "source": [
    "PlanAttributesData=PlanAttributesData.drop(PlanAttributesData[['Unnamed: 0']],1)\n",
    "PlanAttributesData.head(3)"
   ]
  },
  {
   "cell_type": "code",
   "execution_count": 85,
   "metadata": {
    "collapsed": true
   },
   "outputs": [],
   "source": [
    "PlanAttributesData_1=PlanAttributesData\n",
    "PlanAttributesData_2=PlanAttributesData\n",
    "PlanAttributesData_3=PlanAttributesData"
   ]
  },
  {
   "cell_type": "markdown",
   "metadata": {},
   "source": [
    "### Visualização"
   ]
  },
  {
   "cell_type": "code",
   "execution_count": 86,
   "metadata": {
    "collapsed": true
   },
   "outputs": [],
   "source": [
    "import matplotlib\n",
    "import matplotlib.pyplot as plt\n",
    "import pandas as pd\n",
    "import numpy as np\n",
    "import seaborn as sns\n",
    "sns.set(style=\"ticks\")\n",
    "from pylab import rcParams\n",
    "%matplotlib inline\n",
    "matplotlib.style.use('ggplot')\n",
    "rcParams['figure.figsize'] = 15, 10\n",
    "rcParams['font.size'] = 20\n",
    "rcParams['axes.facecolor'] = 'white'"
   ]
  }
 ],
 "metadata": {
  "kernelspec": {
   "display_name": "Python 3",
   "language": "python",
   "name": "python3"
  },
  "language_info": {
   "codemirror_mode": {
    "name": "ipython",
    "version": 3
   },
   "file_extension": ".py",
   "mimetype": "text/x-python",
   "name": "python",
   "nbconvert_exporter": "python",
   "pygments_lexer": "ipython3",
   "version": "3.6.3"
  }
 },
 "nbformat": 4,
 "nbformat_minor": 2
}
